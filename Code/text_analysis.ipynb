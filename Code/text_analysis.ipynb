{
 "cells": [
  {
   "cell_type": "code",
   "execution_count": 60,
   "metadata": {},
   "outputs": [],
   "source": [
    "##Text Analysis - Cosine Similarity/Other Text Analysis\n",
    "\n",
    "# ----------------------------------------------------------------------------\n",
    "#                                Purpose\n",
    "# ----------------------------------------------------------------------------\n",
    "# The purpose of this script is do a text analysis of the \n",
    "# the 85 Essays in the Federalist Papers. By doing so we can figure out who wrote\n",
    "# the unknown essays and how related these essays are to one another. \n",
    "#\n",
    "# ## Import Libraries\n",
    "import pandas as pd\n",
    "import nltk\n",
    "import os\n",
    "import requests\n"
   ]
  },
  {
   "cell_type": "code",
   "execution_count": 61,
   "metadata": {},
   "outputs": [
    {
     "name": "stdout",
     "output_type": "stream",
     "text": [
      "\n",
      "============================\n",
      "About to load essay01.txt in\n",
      "============================\n",
      "\n",
      "============================\n",
      "About to load essay02.txt in\n",
      "============================\n",
      "\n",
      "============================\n",
      "About to load essay03.txt in\n",
      "============================\n",
      "\n",
      "============================\n",
      "About to load essay04.txt in\n",
      "============================\n",
      "\n",
      "============================\n",
      "About to load essay05.txt in\n",
      "============================\n",
      "\n",
      "============================\n",
      "About to load essay06.txt in\n",
      "============================\n",
      "\n",
      "============================\n",
      "About to load essay07.txt in\n",
      "============================\n",
      "\n",
      "============================\n",
      "About to load essay08.txt in\n",
      "============================\n",
      "\n",
      "============================\n",
      "About to load essay09.txt in\n",
      "============================\n",
      "\n",
      "============================\n",
      "About to load essay10.txt in\n",
      "============================\n",
      "\n",
      "============================\n",
      "About to load essay11.txt in\n",
      "============================\n",
      "\n",
      "============================\n",
      "About to load essay12.txt in\n",
      "============================\n",
      "\n",
      "============================\n",
      "About to load essay13.txt in\n",
      "============================\n",
      "\n",
      "============================\n",
      "About to load essay14.txt in\n",
      "============================\n",
      "\n",
      "============================\n",
      "About to load essay15.txt in\n",
      "============================\n",
      "\n",
      "============================\n",
      "About to load essay16.txt in\n",
      "============================\n",
      "\n",
      "============================\n",
      "About to load essay17.txt in\n",
      "============================\n",
      "\n",
      "============================\n",
      "About to load essay18.txt in\n",
      "============================\n",
      "\n",
      "============================\n",
      "About to load essay19.txt in\n",
      "============================\n",
      "\n",
      "============================\n",
      "About to load essay20.txt in\n",
      "============================\n",
      "\n",
      "============================\n",
      "About to load essay21.txt in\n",
      "============================\n",
      "\n",
      "============================\n",
      "About to load essay22.txt in\n",
      "============================\n",
      "\n",
      "============================\n",
      "About to load essay23.txt in\n",
      "============================\n",
      "\n",
      "============================\n",
      "About to load essay24.txt in\n",
      "============================\n",
      "\n",
      "============================\n",
      "About to load essay25.txt in\n",
      "============================\n",
      "\n",
      "============================\n",
      "About to load essay26.txt in\n",
      "============================\n",
      "\n",
      "============================\n",
      "About to load essay27.txt in\n",
      "============================\n",
      "\n",
      "============================\n",
      "About to load essay28.txt in\n",
      "============================\n",
      "\n",
      "============================\n",
      "About to load essay29.txt in\n",
      "============================\n",
      "\n",
      "============================\n",
      "About to load essay30.txt in\n",
      "============================\n",
      "\n",
      "============================\n",
      "About to load essay31.txt in\n",
      "============================\n",
      "\n",
      "============================\n",
      "About to load essay32.txt in\n",
      "============================\n",
      "\n",
      "============================\n",
      "About to load essay33.txt in\n",
      "============================\n",
      "\n",
      "============================\n",
      "About to load essay34.txt in\n",
      "============================\n",
      "\n",
      "============================\n",
      "About to load essay35.txt in\n",
      "============================\n",
      "\n",
      "============================\n",
      "About to load essay36.txt in\n",
      "============================\n",
      "\n",
      "============================\n",
      "About to load essay37.txt in\n",
      "============================\n",
      "\n",
      "============================\n",
      "About to load essay38.txt in\n",
      "============================\n",
      "\n",
      "============================\n",
      "About to load essay39.txt in\n",
      "============================\n",
      "\n",
      "============================\n",
      "About to load essay40.txt in\n",
      "============================\n",
      "\n",
      "============================\n",
      "About to load essay41.txt in\n",
      "============================\n",
      "\n",
      "============================\n",
      "About to load essay42.txt in\n",
      "============================\n",
      "\n",
      "============================\n",
      "About to load essay43.txt in\n",
      "============================\n",
      "\n",
      "============================\n",
      "About to load essay44.txt in\n",
      "============================\n",
      "\n",
      "============================\n",
      "About to load essay45.txt in\n",
      "============================\n",
      "\n",
      "============================\n",
      "About to load essay46.txt in\n",
      "============================\n",
      "\n",
      "============================\n",
      "About to load essay47.txt in\n",
      "============================\n",
      "\n",
      "============================\n",
      "About to load essay48.txt in\n",
      "============================\n",
      "\n",
      "============================\n",
      "About to load essay49.txt in\n",
      "============================\n",
      "\n",
      "============================\n",
      "About to load essay50.txt in\n",
      "============================\n",
      "\n",
      "============================\n",
      "About to load essay51.txt in\n",
      "============================\n",
      "\n",
      "============================\n",
      "About to load essay52.txt in\n",
      "============================\n",
      "\n",
      "============================\n",
      "About to load essay53.txt in\n",
      "============================\n",
      "\n",
      "============================\n",
      "About to load essay54.txt in\n",
      "============================\n",
      "\n",
      "============================\n",
      "About to load essay55.txt in\n",
      "============================\n",
      "\n",
      "============================\n",
      "About to load essay56.txt in\n",
      "============================\n",
      "\n",
      "============================\n",
      "About to load essay57.txt in\n",
      "============================\n",
      "\n",
      "============================\n",
      "About to load essay58.txt in\n",
      "============================\n",
      "\n",
      "============================\n",
      "About to load essay59.txt in\n",
      "============================\n",
      "\n",
      "============================\n",
      "About to load essay60.txt in\n",
      "============================\n",
      "\n",
      "============================\n",
      "About to load essay61.txt in\n",
      "============================\n",
      "\n",
      "============================\n",
      "About to load essay62.txt in\n",
      "============================\n",
      "\n",
      "============================\n",
      "About to load essay63.txt in\n",
      "============================\n",
      "\n",
      "============================\n",
      "About to load essay64.txt in\n",
      "============================\n",
      "\n",
      "============================\n",
      "About to load essay65.txt in\n",
      "============================\n",
      "\n",
      "============================\n",
      "About to load essay66.txt in\n",
      "============================\n",
      "\n",
      "============================\n",
      "About to load essay67.txt in\n",
      "============================\n",
      "\n",
      "============================\n",
      "About to load essay68.txt in\n",
      "============================\n",
      "\n",
      "============================\n",
      "About to load essay69.txt in\n",
      "============================\n",
      "\n",
      "============================\n",
      "About to load essay70.txt in\n",
      "============================\n",
      "\n",
      "============================\n",
      "About to load essay71.txt in\n",
      "============================\n",
      "\n",
      "============================\n",
      "About to load essay72.txt in\n",
      "============================\n",
      "\n",
      "============================\n",
      "About to load essay73.txt in\n",
      "============================\n",
      "\n",
      "============================\n",
      "About to load essay74.txt in\n",
      "============================\n",
      "\n",
      "============================\n",
      "About to load essay75.txt in\n",
      "============================\n",
      "\n",
      "============================\n",
      "About to load essay76.txt in\n",
      "============================\n",
      "\n",
      "============================\n",
      "About to load essay77.txt in\n",
      "============================\n",
      "\n",
      "============================\n",
      "About to load essay78.txt in\n",
      "============================\n",
      "\n",
      "============================\n",
      "About to load essay79.txt in\n",
      "============================\n",
      "\n",
      "============================\n",
      "About to load essay80.txt in\n",
      "============================\n",
      "\n",
      "============================\n",
      "About to load essay81.txt in\n",
      "============================\n",
      "\n",
      "============================\n",
      "About to load essay82.txt in\n",
      "============================\n",
      "\n",
      "============================\n",
      "About to load essay83.txt in\n",
      "============================\n",
      "\n",
      "============================\n",
      "About to load essay84.txt in\n",
      "============================\n",
      "\n",
      "============================\n",
      "About to load essay85.txt in\n",
      "============================\n"
     ]
    }
   ],
   "source": [
    "# ----------------------------------------------------------------------------\n",
    "#                       Combining all files together \n",
    "# ----------------------------------------------------------------------------\n",
    "#%% Loop through our data folder (note: in Spyder you'll have to open a project\n",
    "# in our working directory to do this) and read in all of our files\n",
    "# Initialize an empty dataframe to hold all of our text\n",
    "\n",
    "import os\n",
    "\n",
    "text_df = pd.DataFrame(columns = [\"lines\", \"essay\"])\n",
    "files = os.listdir(\"C:\\\\Users\\\\sabri\\\\Desktop\\\\Federalist\\\\Data\\\\\")\n",
    "\n",
    "# Loop through all text files and read them into singular dataframe\n",
    "for text_file in files:\n",
    "    \n",
    "    print(f\"\\n============================\")\n",
    "    print(f\"About to load {text_file} in\")\n",
    "    print(f\"============================\")\n",
    "        \n",
    "    temp_df = pd.read_csv('C:\\\\Users\\\\sabri\\\\Desktop\\\\Federalist\\\\Data\\\\' + text_file, # Read the text file in our data folder\n",
    "                          delimiter = '\\n', # Looks like every line ends with \\n\n",
    "                          header = None, # Read from the first line\n",
    "                          names = [\"lines\"], # Column header\n",
    "                          error_bad_lines = False) # Skip bad lines (there are like 6 across all essays)\n",
    "    \n",
    "    # Add the file name in so we have the essay number for reference\n",
    "    temp_df['essay'] = text_file\n",
    "    \n",
    "    # Append the temporary dataframe with all corresponding text into our master dataframe\n",
    "    text_df = text_df.append(temp_df)\n",
    "\n"
   ]
  },
  {
   "cell_type": "code",
   "execution_count": 62,
   "metadata": {},
   "outputs": [
    {
     "data": {
      "text/html": [
       "<div>\n",
       "<style scoped>\n",
       "    .dataframe tbody tr th:only-of-type {\n",
       "        vertical-align: middle;\n",
       "    }\n",
       "\n",
       "    .dataframe tbody tr th {\n",
       "        vertical-align: top;\n",
       "    }\n",
       "\n",
       "    .dataframe thead th {\n",
       "        text-align: right;\n",
       "    }\n",
       "</style>\n",
       "<table border=\"1\" class=\"dataframe\">\n",
       "  <thead>\n",
       "    <tr style=\"text-align: right;\">\n",
       "      <th></th>\n",
       "      <th>lines</th>\n",
       "      <th>essay</th>\n",
       "    </tr>\n",
       "  </thead>\n",
       "  <tbody>\n",
       "    <tr>\n",
       "      <th>0</th>\n",
       "      <td>AFTER an unequivocal experience of the ineffic...</td>\n",
       "      <td>Essay 01</td>\n",
       "    </tr>\n",
       "    <tr>\n",
       "      <th>1</th>\n",
       "      <td>federal government, you are called upon to del...</td>\n",
       "      <td>Essay 01</td>\n",
       "    </tr>\n",
       "    <tr>\n",
       "      <th>2</th>\n",
       "      <td>Constitution for the United States of America....</td>\n",
       "      <td>Essay 01</td>\n",
       "    </tr>\n",
       "    <tr>\n",
       "      <th>3</th>\n",
       "      <td>own importance; comprehending in its consequen...</td>\n",
       "      <td>Essay 01</td>\n",
       "    </tr>\n",
       "    <tr>\n",
       "      <th>4</th>\n",
       "      <td>existence of the UNION, the safety and welfare...</td>\n",
       "      <td>Essay 01</td>\n",
       "    </tr>\n",
       "    <tr>\n",
       "      <th>5</th>\n",
       "      <td>is composed, the fate of an empire in many res...</td>\n",
       "      <td>Essay 01</td>\n",
       "    </tr>\n",
       "    <tr>\n",
       "      <th>6</th>\n",
       "      <td>in the world. It has been frequently remarked ...</td>\n",
       "      <td>Essay 01</td>\n",
       "    </tr>\n",
       "    <tr>\n",
       "      <th>7</th>\n",
       "      <td>reserved to the people of this country, by the...</td>\n",
       "      <td>Essay 01</td>\n",
       "    </tr>\n",
       "    <tr>\n",
       "      <th>8</th>\n",
       "      <td>to decide the important question, whether soci...</td>\n",
       "      <td>Essay 01</td>\n",
       "    </tr>\n",
       "    <tr>\n",
       "      <th>9</th>\n",
       "      <td>capable or not of establishing good government...</td>\n",
       "      <td>Essay 01</td>\n",
       "    </tr>\n",
       "  </tbody>\n",
       "</table>\n",
       "</div>"
      ],
      "text/plain": [
       "                                               lines     essay\n",
       "0  AFTER an unequivocal experience of the ineffic...  Essay 01\n",
       "1  federal government, you are called upon to del...  Essay 01\n",
       "2  Constitution for the United States of America....  Essay 01\n",
       "3  own importance; comprehending in its consequen...  Essay 01\n",
       "4  existence of the UNION, the safety and welfare...  Essay 01\n",
       "5  is composed, the fate of an empire in many res...  Essay 01\n",
       "6  in the world. It has been frequently remarked ...  Essay 01\n",
       "7  reserved to the people of this country, by the...  Essay 01\n",
       "8  to decide the important question, whether soci...  Essay 01\n",
       "9  capable or not of establishing good government...  Essay 01"
      ]
     },
     "execution_count": 62,
     "metadata": {},
     "output_type": "execute_result"
    }
   ],
   "source": [
    "#%% Data cleaning\n",
    "# The essays come in in the format 'Essay22.txt', and we'd prefer if it just said 'Essay 22'\n",
    "# Let's start by saving our dataframe as a new object\n",
    "cleaned_df = text_df.copy()\n",
    "\n",
    "# Remove .txt first\n",
    "cleaned_df['essay'] = cleaned_df['essay'].str.replace('.txt', '')\n",
    "\n",
    "# Put a space in between 'essay' and the number of the essay\n",
    "cleaned_df['essay'] = cleaned_df['essay'].str.replace('essay', 'Essay ')\n",
    "\n",
    "# We may also have None (NA) types in the dataframe. Let's drop these\n",
    "cleaned_df['lines'].dropna(how = 'any')\n",
    "\n",
    "# Reset the index column for reference\n",
    "cleaned_df.reset_index(drop = True, inplace = True)\n",
    "\n",
    "# Because I use a Mac, some rows are .DS_Store, so let's filter those out\n",
    "cleaned_df_filtered = cleaned_df[cleaned_df['essay'] != '.DS_Store']\n",
    "\n",
    "cleaned_df_filtered.head(10)"
   ]
  },
  {
   "cell_type": "code",
   "execution_count": 63,
   "metadata": {},
   "outputs": [
    {
     "data": {
      "text/html": [
       "<div>\n",
       "<style scoped>\n",
       "    .dataframe tbody tr th:only-of-type {\n",
       "        vertical-align: middle;\n",
       "    }\n",
       "\n",
       "    .dataframe tbody tr th {\n",
       "        vertical-align: top;\n",
       "    }\n",
       "\n",
       "    .dataframe thead th {\n",
       "        text-align: right;\n",
       "    }\n",
       "</style>\n",
       "<table border=\"1\" class=\"dataframe\">\n",
       "  <thead>\n",
       "    <tr style=\"text-align: right;\">\n",
       "      <th></th>\n",
       "      <th>lines</th>\n",
       "      <th>essay</th>\n",
       "    </tr>\n",
       "  </thead>\n",
       "  <tbody>\n",
       "    <tr>\n",
       "      <th>0</th>\n",
       "      <td>after unequivocal experience inefficacy subsis...</td>\n",
       "      <td>Essay 01</td>\n",
       "    </tr>\n",
       "    <tr>\n",
       "      <th>1</th>\n",
       "      <td>federal government called upon deliberate new</td>\n",
       "      <td>Essay 01</td>\n",
       "    </tr>\n",
       "    <tr>\n",
       "      <th>2</th>\n",
       "      <td>constitution united states america the subject...</td>\n",
       "      <td>Essay 01</td>\n",
       "    </tr>\n",
       "    <tr>\n",
       "      <th>3</th>\n",
       "      <td>importance comprehending consequences nothing ...</td>\n",
       "      <td>Essay 01</td>\n",
       "    </tr>\n",
       "    <tr>\n",
       "      <th>4</th>\n",
       "      <td>existence union safety welfare parts</td>\n",
       "      <td>Essay 01</td>\n",
       "    </tr>\n",
       "  </tbody>\n",
       "</table>\n",
       "</div>"
      ],
      "text/plain": [
       "                                               lines     essay\n",
       "0  after unequivocal experience inefficacy subsis...  Essay 01\n",
       "1      federal government called upon deliberate new  Essay 01\n",
       "2  constitution united states america the subject...  Essay 01\n",
       "3  importance comprehending consequences nothing ...  Essay 01\n",
       "4               existence union safety welfare parts  Essay 01"
      ]
     },
     "execution_count": 63,
     "metadata": {},
     "output_type": "execute_result"
    }
   ],
   "source": [
    "#%% Text Cleaning\n",
    "# It's important to ensure that the text we analyze is clean. That is, no\n",
    "# punctuation, everything lowercase, removal of stop words, etc.\n",
    "\n",
    "cleaned_df_filtered['lines'] = cleaned_df_filtered['lines'].str.replace('[^A-z]', ' ').str.replace(' +', ' ').str.strip()\n",
    "                                            \n",
    "# TODO: remove stop words\n",
    "\n",
    "from nltk.corpus import stopwords\n",
    "stop = stopwords.words('english')\n",
    "\n",
    "cleaned_df_filtered['lines'] = cleaned_df_filtered['lines'].apply(lambda x: \" \".join(x for x in x.split() if x not in stop))\n",
    "\n",
    "# TODO: make everything lower case                \n",
    "cleaned_df_filtered['lines'] = cleaned_df_filtered['lines'].apply(lambda x: \" \".join(x.lower() for x in x.split()))\n",
    "\n",
    "\n",
    "##Removing puncutation \n",
    "cleaned_df_filtered['lines'] = cleaned_df_filtered['lines'].str.replace('[^\\w\\s]','')\n",
    "\n",
    "\n",
    "fed_papers = cleaned_df_filtered.copy()\n",
    "\n",
    "fed_papers.head()\n"
   ]
  },
  {
   "cell_type": "code",
   "execution_count": 64,
   "metadata": {},
   "outputs": [],
   "source": [
    "# ----------------------------------------------------------------------------\n",
    "#                           Cosine Similarity\n",
    "# ----------------------------------------------------------------------------\n",
    "# The purpose of this section is do analyze the texts using cosine similarity.\n",
    "# Cosine similarity is calculated by measuring the angle of the cosine between two vectors. \n",
    "# The smaller the angle, the higher the cosine similarity.\n",
    "# Magnitute is not important in cosine similarity, only orientation. This is useful\n",
    "# in text analysis because even if two documents have varying lengths, they could \n",
    "# still be related in terms of content. \n",
    "# In text analysis, this is what makes it more advantageous than other distance measures. \n"
   ]
  },
  {
   "cell_type": "code",
   "execution_count": 65,
   "metadata": {},
   "outputs": [],
   "source": [
    "#Grouping all of the lines by essay number\n",
    "\n",
    "fed_papers = fed_papers.groupby(\"essay\")\n",
    "fed_papers= fed_papers[\"lines\"].agg(lambda column: \" \".join(column))\n",
    "\n",
    "#Resetting the index \n",
    "fed_papers = fed_papers.reset_index(name=\"lines\")"
   ]
  },
  {
   "cell_type": "code",
   "execution_count": 66,
   "metadata": {
    "scrolled": true
   },
   "outputs": [
    {
     "data": {
      "text/plain": [
       "'after unequivocal experience inefficacy subsisting federal government called upon deliberate new constitution united states america the subject speaks importance comprehending consequences nothing less existence union safety welfare parts composed fate empire many respects interesting world it frequently remarked seems reserved people country conduct example decide important question whether societies men really capable establishing good government reflection choice whether forever destined depend political constitutions accident force if truth remark crisis arrived may propriety regarded era decision made wrong election part shall act may view deserve considered general misfortune mankind this idea add inducements philanthropy patriotism heighten solicitude considerate good men must feel event happy choice directed judicious estimate true interests unperplexed unbiased considerations connected public good but thing ardently wished seriously expected the plan offered deliberations affects many particular interests innovates upon many local institutions involve discussion variety objects foreign merits views passions prejudices little favorable discovery truth among formidable obstacles new constitution encounter may readily distinguished obvious interest certain class men every state resist changes may hazard diminution power emolument consequence offices hold state establishments perverted ambition another class men either hope aggrandize confusions country flatter fairer prospects elevation subdivision empire several partial confederacies union one government it however design dwell upon observations nature i well aware would disingenuous resolve indiscriminately opposition set men merely situations might subject suspicion interested ambitious views candor oblige us admit even men may actuated upright intentions cannot doubted much opposition made appearance may hereafter make appearance spring sources blameless least respectable honest errors minds led astray preconceived jealousies fears so numerous indeed powerful causes serve give false bias judgment upon many occasions see wise good men wrong well right side questions first magnitude society this circumstance duly attended would furnish lesson moderation ever much persuaded right controversy and reason caution respect might drawn reflection always sure advocate truth influenced purer principles antagonists ambition avarice personal animosity party opposition many motives laudable apt operate well upon support oppose right side question were even inducements moderation nothing could ill judged intolerant spirit times characterized political parties for politics religion equally absurd aim making proselytes fire sword heresies either rarely cured persecution and yet however sentiments allowed already sufficient indications happen former cases great national discussion a torrent angry malignant passions let loose to judge conduct opposite parties shall led conclude mutually hope evince justness opinions increase number converts loudness declamations bitterness invectives an enlightened zeal energy efficiency government stigmatized offspring temper fond despotic power hostile principles liberty an scrupulous jealousy danger rights people commonly fault head heart represented mere pretense artifice stale bait popularity expense public good it forgotten one hand jealousy usual concomitant love noble enthusiasm liberty apt infected spirit narrow illiberal distrust on hand equally forgotten vigor government essential security liberty contemplation sound well informed judgment interest never separated dangerous ambition often lurks behind specious mask zeal rights people forbidden appearance zeal firmness efficiency government history teach us former found much certain road introduction despotism latter men overturned liberties republics greatest number begun career paying obsequious court people commencing demagogues ending tyrants in course preceding observations i eye fellow citizens putting upon guard attempts whatever quarter influence decision matter utmost moment welfare impressions may result evidence truth you doubt time collected general scope proceed source unfriendly new constitution yes countrymen i given attentive consideration i clearly opinion interest adopt i convinced safest course liberty dignity happiness i affect reserves i feel i amuse appearance deliberation i decided i frankly acknowledge convictions i freely lay reasons founded the consciousness good intentions disdains ambiguity i shall however multiply professions head my motives must remain depository breast my arguments open may judged they shall least offered spirit disgrace cause truth i propose series papers discuss following interesting particulars the utility of the union to your political prosperity the insufficiency of the present confederation to preserve that union the necessity of a government at least equally energetic with the one proposed to the attainment of this object the conformity of the proposed constitution to the true principles of republican government its analogy to your own state constitution lastly the additional security which its adoption will afford to the preservation of that species of government to liberty and to property in progress discussion i shall endeavor give satisfactory answer objections shall made appearance may seem claim attention it may perhaps thought superfluous offer arguments prove utility union point doubt deeply engraved hearts great body people every state one may imagined adversaries but fact already hear whispered private circles oppose new constitution thirteen states great extent general system must necessity resort separate confederacies distinct portions whole this doctrine probability gradually propagated till votaries enough countenance open avowal for nothing evident able take enlarged view subject alternative adoption new constitution dismemberment union it therefore use begin examining advantages union certain evils probable dangers every state exposed dissolution this shall accordingly constitute subject next address'"
      ]
     },
     "execution_count": 66,
     "metadata": {},
     "output_type": "execute_result"
    }
   ],
   "source": [
    "fed_papers[\"lines\"][0]"
   ]
  },
  {
   "cell_type": "code",
   "execution_count": 67,
   "metadata": {},
   "outputs": [
    {
     "data": {
      "text/html": [
       "<div>\n",
       "<style scoped>\n",
       "    .dataframe tbody tr th:only-of-type {\n",
       "        vertical-align: middle;\n",
       "    }\n",
       "\n",
       "    .dataframe tbody tr th {\n",
       "        vertical-align: top;\n",
       "    }\n",
       "\n",
       "    .dataframe thead th {\n",
       "        text-align: right;\n",
       "    }\n",
       "</style>\n",
       "<table border=\"1\" class=\"dataframe\">\n",
       "  <thead>\n",
       "    <tr style=\"text-align: right;\">\n",
       "      <th></th>\n",
       "      <th>essay</th>\n",
       "      <th>lines</th>\n",
       "    </tr>\n",
       "  </thead>\n",
       "  <tbody>\n",
       "    <tr>\n",
       "      <th>0</th>\n",
       "      <td>Essay 01</td>\n",
       "      <td>after unequivocal experience inefficacy subsis...</td>\n",
       "    </tr>\n",
       "    <tr>\n",
       "      <th>1</th>\n",
       "      <td>Essay 02</td>\n",
       "      <td>when people america reflect called upon decide...</td>\n",
       "    </tr>\n",
       "    <tr>\n",
       "      <th>2</th>\n",
       "      <td>Essay 03</td>\n",
       "      <td>it is new observation people country like amer...</td>\n",
       "    </tr>\n",
       "    <tr>\n",
       "      <th>3</th>\n",
       "      <td>Essay 04</td>\n",
       "      <td>my last paper assigned several reasons safety ...</td>\n",
       "    </tr>\n",
       "    <tr>\n",
       "      <th>4</th>\n",
       "      <td>Essay 05</td>\n",
       "      <td>queen anne letter st july scotch parliament ma...</td>\n",
       "    </tr>\n",
       "  </tbody>\n",
       "</table>\n",
       "</div>"
      ],
      "text/plain": [
       "      essay                                              lines\n",
       "0  Essay 01  after unequivocal experience inefficacy subsis...\n",
       "1  Essay 02  when people america reflect called upon decide...\n",
       "2  Essay 03  it is new observation people country like amer...\n",
       "3  Essay 04  my last paper assigned several reasons safety ...\n",
       "4  Essay 05  queen anne letter st july scotch parliament ma..."
      ]
     },
     "execution_count": 67,
     "metadata": {},
     "output_type": "execute_result"
    }
   ],
   "source": [
    "fed_papers.head()"
   ]
  },
  {
   "cell_type": "code",
   "execution_count": 68,
   "metadata": {},
   "outputs": [
    {
     "data": {
      "text/plain": [
       "<85x8474 sparse matrix of type '<class 'numpy.float64'>'\n",
       "\twith 53895 stored elements in Compressed Sparse Row format>"
      ]
     },
     "execution_count": 68,
     "metadata": {},
     "output_type": "execute_result"
    }
   ],
   "source": [
    "#Converts lines into a vectorized TF-IDF\n",
    "from sklearn.feature_extraction.text import TfidfVectorizer\n",
    "\n",
    "#Transforms the data\n",
    "fed_transform = TfidfVectorizer().fit_transform(fed_papers['lines'])\n",
    "\n",
    "fed_transform"
   ]
  },
  {
   "cell_type": "code",
   "execution_count": 69,
   "metadata": {},
   "outputs": [
    {
     "data": {
      "text/plain": [
       "<1x8474 sparse matrix of type '<class 'numpy.float64'>'\n",
       "\twith 560 stored elements in Compressed Sparse Row format>"
      ]
     },
     "execution_count": 69,
     "metadata": {},
     "output_type": "execute_result"
    }
   ],
   "source": [
    "#Slicing the matrix to get a submatrix in each row\n",
    "#Let's take a look at the first Essay\n",
    "\n",
    "fed_transform[0:1]"
   ]
  },
  {
   "cell_type": "code",
   "execution_count": 70,
   "metadata": {},
   "outputs": [],
   "source": [
    "#Importing a linear kernal \n",
    "from sklearn.metrics.pairwise import linear_kernel"
   ]
  },
  {
   "cell_type": "code",
   "execution_count": 71,
   "metadata": {},
   "outputs": [],
   "source": [
    "#Getting similarites through the linear kernal \n",
    "fed_cosine_similarities = linear_kernel(fed_transform[0:1],fed_transform).flatten()"
   ]
  },
  {
   "cell_type": "code",
   "execution_count": 72,
   "metadata": {
    "scrolled": true
   },
   "outputs": [
    {
     "data": {
      "text/plain": [
       "array([1.        , 0.24248331, 0.19453765, 0.18155295, 0.16440841,\n",
       "       0.16952053, 0.20336079, 0.19757717, 0.21749066, 0.23962499,\n",
       "       0.16014667, 0.17737461, 0.20392943, 0.18665427, 0.24441376,\n",
       "       0.20683298, 0.20471895, 0.13234105, 0.13727825, 0.13873905,\n",
       "       0.19290639, 0.2783429 , 0.23383181, 0.1591988 , 0.20336057,\n",
       "       0.23546518, 0.18387218, 0.2058263 , 0.18554566, 0.23166577,\n",
       "       0.23421106, 0.1341495 , 0.18373895, 0.1944032 , 0.19724486,\n",
       "       0.24548596, 0.24105335, 0.2079633 , 0.21594254, 0.22841004,\n",
       "       0.25932594, 0.16854812, 0.26163057, 0.197418  , 0.22636515,\n",
       "       0.23890617, 0.1328758 , 0.17859182, 0.22283346, 0.13718231,\n",
       "       0.23451095, 0.18325723, 0.16849247, 0.14707934, 0.18096885,\n",
       "       0.15332521, 0.18900522, 0.22167091, 0.22794369, 0.22479624,\n",
       "       0.19004653, 0.21576562, 0.21867444, 0.19455947, 0.20984302,\n",
       "       0.18104205, 0.15143357, 0.1623089 , 0.15957013, 0.21567431,\n",
       "       0.21527502, 0.18537786, 0.22028761, 0.14617154, 0.17451115,\n",
       "       0.20838131, 0.18678071, 0.2200253 , 0.1547103 , 0.20382162,\n",
       "       0.20888169, 0.15328641, 0.18313996, 0.29435426, 0.28206804])"
      ]
     },
     "execution_count": 72,
     "metadata": {},
     "output_type": "execute_result"
    }
   ],
   "source": [
    "fed_cosine_similarities"
   ]
  },
  {
   "cell_type": "markdown",
   "metadata": {},
   "source": [
    "This will show you the similarities between the first Essay and the other Essays. \n",
    "The range is from 0-1. 1 meaning they are the most similar, 0 meaning they are the least similar. \n",
    "As you can see the \"1\" in the first row and column is because it is comparing the first Essay to itself."
   ]
  },
  {
   "cell_type": "code",
   "execution_count": 73,
   "metadata": {},
   "outputs": [
    {
     "data": {
      "text/plain": [
       "array([35, 40, 42, 21, 84, 83], dtype=int64)"
      ]
     },
     "execution_count": 73,
     "metadata": {},
     "output_type": "execute_result"
    }
   ],
   "source": [
    "#Sorting the cosine similarities\n",
    "#Let's look at the five most related Essays to the first Essay\n",
    "\n",
    "related_essays = fed_cosine_similarities.argsort()[-7:-1]\n",
    "related_essays"
   ]
  },
  {
   "cell_type": "code",
   "execution_count": 14,
   "metadata": {},
   "outputs": [
    {
     "data": {
      "text/plain": [
       "array([1.        , 0.16333684, 0.15210208, 0.15195164, 0.1439729 ,\n",
       "       0.14349407])"
      ]
     },
     "execution_count": 14,
     "metadata": {},
     "output_type": "execute_result"
    }
   ],
   "source": [
    "#Cosine Similarity of the related essays\n",
    "fed_cosine_similarities[related_essays]"
   ]
  },
  {
   "cell_type": "markdown",
   "metadata": {},
   "source": [
    "Essay 1 - Hamilton - For the Independent Journal - General Introduction\n",
    "\n",
    "Excluding itself, the five most similar Essays to Essay 1 were the following: \n",
    "\n",
    "1. Essay 84 - Hamilton - From McLEAN's Edition - Certain General and Miscellaneous Objections to the Constitution Considered and Answered\n",
    "\n",
    "\n",
    "2. Essay 85 - Hamilton - \tFrom McLEAN's Edition - Concluding Remarks   \n",
    "\n",
    "\n",
    "3. Essay 22 - Hamilton - From the New York Packet  - The Same Subject Continued: Other Defects of the Present Confederation - Friday, December 14, 1787\n",
    "\n",
    "\n",
    "4. Essay 43 - Madison -  \tFor the Independent Journal - \tThe Same Subject Continued: The Powers Conferred by the Constitution Further Considered\n",
    "\n",
    "\n",
    "5.\tEssay 40 - Madison - From the New York Packet - The Powers of the Convention to Form a Mixed Government Examined and Sustained - Friday, January 18, 1788"
   ]
  },
  {
   "cell_type": "code",
   "execution_count": 15,
   "metadata": {},
   "outputs": [
    {
     "data": {
      "text/plain": [
       "<1x22309 sparse matrix of type '<class 'numpy.float64'>'\n",
       "\twith 521 stored elements in Compressed Sparse Row format>"
      ]
     },
     "execution_count": 15,
     "metadata": {},
     "output_type": "execute_result"
    }
   ],
   "source": [
    "#Let's take a look at one of the unknown Essays - Essay 52\n",
    "fed_transform[51:52]"
   ]
  },
  {
   "cell_type": "code",
   "execution_count": 16,
   "metadata": {},
   "outputs": [],
   "source": [
    "#Getting similarites through the linear kernal \n",
    "fed_cosine_similarities = linear_kernel(fed_transform[51:52],fed_transform).flatten()"
   ]
  },
  {
   "cell_type": "code",
   "execution_count": 17,
   "metadata": {},
   "outputs": [
    {
     "data": {
      "text/plain": [
       "array([0.10098887, 0.08775587, 0.09312682, 0.07839288, 0.07084643,\n",
       "       0.08459868, 0.09992395, 0.09663708, 0.09810563, 0.10657355,\n",
       "       0.09400158, 0.09817362, 0.10045103, 0.10751882, 0.10415581,\n",
       "       0.08504067, 0.08709252, 0.06735856, 0.07468257, 0.07719775,\n",
       "       0.11025043, 0.12391947, 0.09887189, 0.09132512, 0.10950148,\n",
       "       0.14016934, 0.07107975, 0.09496323, 0.10189658, 0.10032443,\n",
       "       0.09431211, 0.08201221, 0.09436381, 0.10093062, 0.08404602,\n",
       "       0.13376713, 0.12259353, 0.11500993, 0.18546175, 0.1491983 ,\n",
       "       0.16740061, 0.11769523, 0.1498859 , 0.13555068, 0.14294402,\n",
       "       0.15469904, 0.10048441, 0.12271427, 0.12560447, 0.08909412,\n",
       "       0.12122357, 1.        , 0.19645533, 0.1389407 , 0.20415304,\n",
       "       0.13279746, 0.15268227, 0.1431449 , 0.16905727, 0.12942176,\n",
       "       0.15171226, 0.16428287, 0.1971695 , 0.09691149, 0.10820505,\n",
       "       0.0969073 , 0.09813144, 0.10560274, 0.13353598, 0.09287387,\n",
       "       0.12866832, 0.09822358, 0.1143181 , 0.06400234, 0.10183746,\n",
       "       0.10253818, 0.1202261 , 0.13172097, 0.09034544, 0.10721507,\n",
       "       0.12082468, 0.08935748, 0.10629071, 0.15400243, 0.12908755])"
      ]
     },
     "execution_count": 17,
     "metadata": {},
     "output_type": "execute_result"
    }
   ],
   "source": [
    "fed_cosine_similarities"
   ]
  },
  {
   "cell_type": "code",
   "execution_count": 18,
   "metadata": {},
   "outputs": [
    {
     "data": {
      "text/plain": [
       "array([51, 54, 62, 52, 38, 58], dtype=int64)"
      ]
     },
     "execution_count": 18,
     "metadata": {},
     "output_type": "execute_result"
    }
   ],
   "source": [
    "#Sorting the cosine similarities\n",
    "#Let's look at the five most related Essays to the 52nd Essay\n",
    "\n",
    "related_essays = fed_cosine_similarities.argsort()[:-7:-1]\n",
    "related_essays"
   ]
  },
  {
   "cell_type": "code",
   "execution_count": 19,
   "metadata": {},
   "outputs": [
    {
     "data": {
      "text/plain": [
       "array([1.        , 0.20415304, 0.1971695 , 0.19645533, 0.18546175,\n",
       "       0.16905727])"
      ]
     },
     "execution_count": 19,
     "metadata": {},
     "output_type": "execute_result"
    }
   ],
   "source": [
    "#Cosine Similarity of the related essays\n",
    "fed_cosine_similarities[related_essays]"
   ]
  },
  {
   "cell_type": "code",
   "execution_count": 20,
   "metadata": {},
   "outputs": [
    {
     "ename": "SyntaxError",
     "evalue": "invalid syntax (<ipython-input-20-c36dfd7a1db1>, line 1)",
     "output_type": "error",
     "traceback": [
      "\u001b[1;36m  File \u001b[1;32m\"<ipython-input-20-c36dfd7a1db1>\"\u001b[1;36m, line \u001b[1;32m1\u001b[0m\n\u001b[1;33m    Essay 52 - Unknown - From the New York Packet - The House of Representatives - Friday, February 8, 1788\u001b[0m\n\u001b[1;37m          ^\u001b[0m\n\u001b[1;31mSyntaxError\u001b[0m\u001b[1;31m:\u001b[0m invalid syntax\n"
     ]
    }
   ],
   "source": [
    "Essay 52 - Unknown - From the New York Packet - The House of Representatives - Friday, February 8, 1788\n",
    "\n",
    "\n",
    "Excluding itself, the five most similar Essays to Essay 49 were the following: \n",
    "\n",
    "1. Essay 55 - Unknown - From the New York Packet - The Total Number of the House of Representatives - Friday, February 15, 1788\n",
    "\n",
    "\n",
    "2. Essay 63 - Unknown - For the Independent Journal - The Senate \n",
    "\n",
    "\n",
    "3. Essay 53 - Unknown - From the New York Packet - The Same Subject Continued: The House of Representatives - Tuesday, February 12, 1788\n",
    "\n",
    "\n",
    "\n",
    "4. Essay 39 - Madison -  For the Independent Journal - Conformity of the Plan to Republican Principles\n",
    "\n",
    "\n",
    "5.Essay 59 - Hamilton - From the New York Packet Concerning the Power of Congress to Regulate the Election of Members - Friday, February 22, 1788\n"
   ]
  },
  {
   "cell_type": "code",
   "execution_count": null,
   "metadata": {},
   "outputs": [],
   "source": [
    "#To Do \n",
    "#Loop through the similarities, figure which Essays were related to each and put it into a dataframe. \n",
    "#Create a methodology where we sort which Essays were most similar to which author. \n",
    "#Example - In Essay 52, it was attributed once to Madison and once Hamilton in the top, the next author it is most similar to, \n",
    "#we attribute Essay 52 to that person. \n",
    "#Another methodology is to do a k-means clustering to group the Essays together. "
   ]
  }
 ],
 "metadata": {
  "kernelspec": {
   "display_name": "Python 3",
   "language": "python",
   "name": "python3"
  },
  "language_info": {
   "codemirror_mode": {
    "name": "ipython",
    "version": 3
   },
   "file_extension": ".py",
   "mimetype": "text/x-python",
   "name": "python",
   "nbconvert_exporter": "python",
   "pygments_lexer": "ipython3",
   "version": "3.8.5"
  }
 },
 "nbformat": 4,
 "nbformat_minor": 4
}
